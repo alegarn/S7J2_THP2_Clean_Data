{
 "cells": [
  {
   "attachments": {},
   "cell_type": "markdown",
   "id": "613d4e09",
   "metadata": {},
   "source": [
    "# Transformer les fichiers\n",
    "\n",
    "### Beware of the modifications:\n",
    "Leg_2017_Resultats_T1_c.xlsx \n",
    "(https://www.data.gouv.fr/fr/datasets/elections-legislatives-des-11-et-18-juin-2017-resultats-du-1er-tour/):\n",
    "- take the \"Circo. leg. T1\" xlsx sheet\n",
    "- delete the rows 1; 2\n",
    "- col \"Sièges\" removed\n",
    "- transfer the entire sheet just cleaned to a new spreadsheet file\n",
    "- export new file as: Leg_2017_Result_T1_c.csv\n",
    "\n",
    "7e916e0ab5bf0dc817a679c838dae7c2db500c1f8e831f09a6d157078860c9.xls \n",
    "(https://www.data.gouv.fr/fr/datasets/elections-legislatives-2012-resultats-572077/):\n",
    "- take the \"Circo leg T1\" xls sheet\n",
    "- transfer the entire sheet just cleaned to a new spreadsheet file\n",
    "- export new file as: Leg_2012_Result_T1_c.csv"
   ]
  },
  {
   "cell_type": "code",
   "execution_count": null,
   "id": "adfc1d83",
   "metadata": {},
   "outputs": [],
   "source": [
    "import pandas as pd\n",
    "import numpy as np"
   ]
  },
  {
   "cell_type": "code",
   "execution_count": 15,
   "id": "f400536b",
   "metadata": {
    "scrolled": true
   },
   "outputs": [
    {
     "name": "stdout",
     "output_type": "stream",
     "text": [
      "Enter the CSV file name:\n",
      "Leg_2017_Result_T1_c.csv\n",
      "Enter the CSV file name:\n",
      "Results_2017.csv\n"
     ]
    }
   ],
   "source": [
    "import csv\n",
    "\n",
    "\n",
    "def extract_header(f):\n",
    "    # header unique transformation\n",
    "    row1 = next(reader)\n",
    "    total = row1[0].split(';')\n",
    "    # Leg_2012_Result_T1_c.csv: [0:22] ; Leg_2017_Result_T1_c.csv: [0:26]\n",
    "    header = total[0:26]\n",
    "    return header\n",
    "\n",
    "def process(reader):\n",
    "    for row in reader:\n",
    "        mylist = clean(row) \n",
    "        # Leg_2012_Result_T1_c.csv: [0:15] ; Leg_2017_Result_T1_c.csv: [0:18]\n",
    "        circo = mylist[0:18]\n",
    "        # Leg_2012_Result_T1_c.csv: [15:len(mylist)]; Leg_2017_Result_T1_c.csv: [18:len(mylist)]\n",
    "        per_person = mylist[18:len(mylist)]\n",
    "        pos0 = 0\n",
    "        # Leg_2012_Result_T1_c.csv: 7, Leg_2017_Result_T1_c.csv: 8\n",
    "        posx = 8\n",
    "        loop_count = len(per_person)/8\n",
    "        select(loop_count, per_person, circo, pos0, posx)\n",
    "        \n",
    "        \n",
    "def clean(x):\n",
    "    total = x[0].split(';')\n",
    "    #pas de '' https://www.codegrepper.com/code-examples/python/python+remove+null+from+an+array\n",
    "    list = [i for i in total if i != '']\n",
    "    return list\n",
    "\n",
    "\n",
    "def select(loop_count, everyone, data_circo, pos0, posx):\n",
    "    x = 0\n",
    "    while x < loop_count:\n",
    "        player = everyone[pos0:posx]\n",
    "        add_line = data_circo + player\n",
    "        save.append(add_line)\n",
    "        # Leg_2012_Result_T1_c.csv: +7 ; Leg_2017_Result_T1_c.csv: +8\n",
    "        pos0 = pos0 + 8\n",
    "        posx = posx + 8\n",
    "        x = x + 1    \n",
    "\n",
    "def final_csv(var):\n",
    "    with open(choose(),'w', newline='') as csvfile:\n",
    "        # write in the the csv file\n",
    "        obj=csv.writer(csvfile)\n",
    "        # for loop to apply 'writerow' for each line\n",
    "        for row in var:\n",
    "            obj.writerow(row)\n",
    "\n",
    "def choose():\n",
    "    print('Enter the CSV file name:')\n",
    "    # Leg_2012_Result_T1_c.csv ; Leg_2017_Result_T1_c.csv\n",
    "    # Results_2012.csv ; Results_2017.csv\n",
    "    file = input()\n",
    "    return file\n",
    "\n",
    "\n",
    "with open(choose(), newline='') as f:\n",
    "    reader = csv.reader(f)\n",
    "    save = [extract_header(reader)]\n",
    "    # from line 2\n",
    "    process(reader)\n",
    "    final_csv(save)\n",
    "    "
   ]
  },
  {
   "cell_type": "markdown",
   "id": "3eaf7d54",
   "metadata": {},
   "source": [
    "# Liens des nuances\n",
    "Legislatives 2012\n",
    "https://www.interieur.gouv.fr/Elections/Les-resultats/Legislatives/elecresult__LG2012/(path)/LG2012/FE.html\n",
    "\n",
    "Legislatives 2017: le nom des partis \n",
    "https://www.interieur.gouv.fr/Elections/Les-resultats/Legislatives/elecresult__legislatives-2017/(path)/legislatives-2017/FE.html\n",
    "\n",
    "Nuances des partis (link code / name )\n",
    "https://www.leprogres.fr/elections/2022/05/04/exg-soc-rem-dvd-rn-comment-les-nuances-politiques-sont-attribuees-aux-candidats\n",
    "\n"
   ]
  }
 ],
 "metadata": {
  "kernelspec": {
   "display_name": "Python 3 (ipykernel)",
   "language": "python",
   "name": "python3"
  },
  "language_info": {
   "codemirror_mode": {
    "name": "ipython",
    "version": 3
   },
   "file_extension": ".py",
   "mimetype": "text/x-python",
   "name": "python",
   "nbconvert_exporter": "python",
   "pygments_lexer": "ipython3",
   "version": "3.9.7"
  }
 },
 "nbformat": 4,
 "nbformat_minor": 5
}
